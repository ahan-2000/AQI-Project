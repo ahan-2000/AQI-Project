{
  "nbformat": 4,
  "nbformat_minor": 0,
  "metadata": {
    "kernelspec": {
      "display_name": "Python 3",
      "language": "python",
      "name": "python3"
    },
    "language_info": {
      "codemirror_mode": {
        "name": "ipython",
        "version": 3
      },
      "file_extension": ".py",
      "mimetype": "text/x-python",
      "name": "python",
      "nbconvert_exporter": "python",
      "pygments_lexer": "ipython3",
      "version": "3.8.3"
    },
    "colab": {
      "name": "AQI-Project-Data Scrapping.ipynb",
      "provenance": [],
      "collapsed_sections": [],
      "include_colab_link": true
    }
  },
  "cells": [
    {
      "cell_type": "markdown",
      "metadata": {
        "id": "view-in-github",
        "colab_type": "text"
      },
      "source": [
        "<a href=\"https://colab.research.google.com/github/ahan-2000/AQI-Project/blob/master/AQI_Project_Data_Scrapping.ipynb\" target=\"_parent\"><img src=\"https://colab.research.google.com/assets/colab-badge.svg\" alt=\"Open In Colab\"/></a>"
      ]
    },
    {
      "cell_type": "code",
      "metadata": {
        "id": "fnWsG2x3cTHY",
        "colab_type": "code",
        "colab": {}
      },
      "source": [
        "#Imoorting required libraries\n",
        "import os\n",
        "import time\n",
        "import requests\n",
        "import sys\n",
        "\n",
        "import numpy as np\n"
      ],
      "execution_count": 49,
      "outputs": []
    },
    {
      "cell_type": "code",
      "metadata": {
        "id": "0DhxTUZgckyq",
        "colab_type": "code",
        "colab": {
          "resources": {
            "http://localhost:8080/nbextensions/google.colab/files.js": {
              "data": "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",
              "ok": true,
              "headers": [
                [
                  "content-type",
                  "application/javascript"
                ]
              ],
              "status": 200,
              "status_text": ""
            }
          },
          "base_uri": "https://localhost:8080/",
          "height": 241
        },
        "outputId": "190bd067-8e6c-42eb-f033-094343e4cbdf"
      },
      "source": [
        "#Uploading the file\n",
        "\n",
        "from google.colab import files\n",
        "uploaded = files.upload()"
      ],
      "execution_count": 2,
      "outputs": [
        {
          "output_type": "display_data",
          "data": {
            "text/html": [
              "\n",
              "     <input type=\"file\" id=\"files-3f8f6722-fda1-45d8-a2ff-929ee28a4851\" name=\"files[]\" multiple disabled\n",
              "        style=\"border:none\" />\n",
              "     <output id=\"result-3f8f6722-fda1-45d8-a2ff-929ee28a4851\">\n",
              "      Upload widget is only available when the cell has been executed in the\n",
              "      current browser session. Please rerun this cell to enable.\n",
              "      </output>\n",
              "      <script src=\"/nbextensions/google.colab/files.js\"></script> "
            ],
            "text/plain": [
              "<IPython.core.display.HTML object>"
            ]
          },
          "metadata": {
            "tags": []
          }
        },
        {
          "output_type": "stream",
          "text": [
            "Saving aqi2013.csv to aqi2013.csv\n",
            "Saving aqi2014.csv to aqi2014.csv\n",
            "Saving aqi2015.csv to aqi2015.csv\n",
            "Saving aqi2016.csv to aqi2016.csv\n",
            "Saving aqi2017.csv to aqi2017.csv\n",
            "Saving aqi2018.csv to aqi2018.csv\n"
          ],
          "name": "stdout"
        }
      ]
    },
    {
      "cell_type": "code",
      "metadata": {
        "id": "0M8eWzf-cTHb",
        "colab_type": "code",
        "colab": {}
      },
      "source": [
        "#Creating Function to take values\n",
        "def ret_html():\n",
        "    for year in range(2013,2019):\n",
        "        for month in range(1,13):\n",
        "            if(month<10):\n",
        "                url='http://en.tutiempo.net/climate/0{}-{}/ws-421820.html'.format(month\n",
        "                                                                          ,year)\n",
        "            else:\n",
        "                url='http://en.tutiempo.net/climate/{}-{}/ws-421820.html'.format(month\n",
        "                                                                          ,year)\n",
        "            texts=requests.get(url)\n",
        "            text_utf=texts.text.encode('utf=8')\n",
        "            \n",
        "            if not os.path.exists(\"H:\\SKILL DEVOLOPMENT\\CODING PROJECTS\\AQI Project\\Data\\Html_Data\\{}\".format(year)):\n",
        "                os.makedirs(\"H:\\SKILL DEVOLOPMENT\\CODING PROJECTS\\AQI Project\\Data\\Html_Data\\{}\".format(year))\n",
        "            with open(\"H:\\SKILL DEVOLOPMENT\\CODING PROJECTS\\AQI Project\\Data\\Html_Data\\{}\\{}.html\".format(year,month),\"wb\") as output:\n",
        "                output.write(text_utf)\n",
        "            \n",
        "        sys.stdout.flush()\n",
        "\n",
        "                \n",
        "        "
      ],
      "execution_count": null,
      "outputs": []
    },
    {
      "cell_type": "code",
      "metadata": {
        "id": "RaWsC0dLcTHd",
        "colab_type": "code",
        "colab": {},
        "outputId": "4e116b65-4114-47d4-ff5e-f4033c0522f9"
      },
      "source": [
        "if __name__==\"__main__\":\n",
        "    start_time=time.time()\n",
        "    ret_html()\n",
        "    stop_time=time.time()\n",
        "    print(\"Time Taken {}\".format(stop_time-start_time))"
      ],
      "execution_count": null,
      "outputs": [
        {
          "output_type": "stream",
          "text": [
            "Time Taken 120.15264701843262\n"
          ],
          "name": "stdout"
        }
      ]
    },
    {
      "cell_type": "code",
      "metadata": {
        "id": "VEQM3L9CcTHf",
        "colab_type": "code",
        "colab": {}
      },
      "source": [
        "import pandas as pd\n",
        "import matplotlib.pyplot as plt\n"
      ],
      "execution_count": 4,
      "outputs": []
    },
    {
      "cell_type": "code",
      "metadata": {
        "id": "xRKuzx6ucTHh",
        "colab_type": "code",
        "colab": {}
      },
      "source": [
        "d13=pd.read_csv(r'aqi2013.csv',chunksize=24)\n",
        "d14=pd.read_csv(r'aqi2014.csv',chunksize=24)\n",
        "d15=pd.read_csv(r'aqi2015.csv',chunksize=24)\n",
        "d16=pd.read_csv(r'aqi2016.csv',chunksize=24)\n",
        "d17=pd.read_csv(r'aqi2017.csv',chunksize=24)\n",
        "d18=pd.read_csv(r'aqi2018.csv',chunksize=24)"
      ],
      "execution_count": 60,
      "outputs": []
    },
    {
      "cell_type": "code",
      "metadata": {
        "id": "0chUvfiucTHj",
        "colab_type": "code",
        "colab": {
          "base_uri": "https://localhost:8080/",
          "height": 34
        },
        "outputId": "d60d7484-fe8d-4ed1-f391-b9e67fe8da90"
      },
      "source": [
        "d15"
      ],
      "execution_count": 61,
      "outputs": [
        {
          "output_type": "execute_result",
          "data": {
            "text/plain": [
              "<pandas.io.parsers.TextFileReader at 0x7f71f3a9d908>"
            ]
          },
          "metadata": {
            "tags": []
          },
          "execution_count": 61
        }
      ]
    },
    {
      "cell_type": "code",
      "metadata": {
        "id": "WiGDmm-TcTHl",
        "colab_type": "code",
        "colab": {}
      },
      "source": [
        "def avg_d_2013():\n",
        "    temp_i=0\n",
        "    average=[]\n",
        "    for rows in d13: #Chunk size gives how many data I want to take at once\n",
        "        add_var=0\n",
        "        avg=0.0\n",
        "        data=[]\n",
        "        df=pd.DataFrame(data=rows)\n",
        "        for index, row in df.iterrows():\n",
        "            data.append(row['PM2.5'])\n",
        "            \n",
        "        for i in data:\n",
        "            if type(i) is int or type(i) is float:\n",
        "                add_var=add_var+i\n",
        "                \n",
        "            elif type(i) is str:\n",
        "                if i!='NoData' and i!='PwrFail' and i!='InVld':\n",
        "                    temp=float(i)\n",
        "                    add_var=add_var+temp\n",
        "                    \n",
        "        avg=add_var/24\n",
        "        temp_i=temp_i+1\n",
        "        \n",
        "        average.append(avg)\n",
        "    return average\n",
        "                \n",
        "                "
      ],
      "execution_count": 62,
      "outputs": []
    },
    {
      "cell_type": "code",
      "metadata": {
        "id": "lG9L2iQ_cTHo",
        "colab_type": "code",
        "colab": {}
      },
      "source": [
        "def avg_d_2014():\n",
        "    temp_i=0\n",
        "    average=[]\n",
        "    for rows in d14: #Chunk size gives how many data I want to take at once\n",
        "        add_var=0\n",
        "        avg=0.0\n",
        "        data=[]\n",
        "        df=pd.DataFrame(data=rows)\n",
        "        for index, row in df.iterrows():\n",
        "            data.append(row['PM2.5'])\n",
        "            \n",
        "        for i in data:\n",
        "            if type(i) is int or type(i) is float:\n",
        "                add_var=add_var+i\n",
        "                \n",
        "            elif type(i) is str:\n",
        "                if i!='NoData' and i!='PwrFail' and i!='InVld':\n",
        "                    temp=float(i)\n",
        "                    add_var=add_var+temp\n",
        "                    \n",
        "        avg=add_var/24\n",
        "        temp_i=temp_i+1\n",
        "        \n",
        "        average.append(avg)\n",
        "    return average\n",
        "                "
      ],
      "execution_count": 63,
      "outputs": []
    },
    {
      "cell_type": "code",
      "metadata": {
        "id": "Oe1kd688cTHq",
        "colab_type": "code",
        "colab": {}
      },
      "source": [
        "def avg_d_2015():\n",
        "    temp_i=0\n",
        "    average=[]\n",
        "    for rows in d15: #Chunk size gives how many data I want to take at once\n",
        "        add_var=0\n",
        "        avg=0.0\n",
        "        data=[]\n",
        "        df=pd.DataFrame(data=rows)\n",
        "        for index, row in df.iterrows():\n",
        "            data.append(row['PM2.5'])\n",
        "            \n",
        "        for i in data:\n",
        "            if type(i) is int or type(i) is float:\n",
        "                add_var=add_var+i\n",
        "                \n",
        "            elif type(i) is str:\n",
        "                if i!='NoData' and i!='PwrFail' and i!='InVld'and i!='---':\n",
        "                    temp=float(i)\n",
        "                    add_var=add_var+temp\n",
        "                    \n",
        "        avg=add_var/24\n",
        "        temp_i=temp_i+1\n",
        "        \n",
        "        average.append(avg)\n",
        "    return average\n",
        "                "
      ],
      "execution_count": 64,
      "outputs": []
    },
    {
      "cell_type": "code",
      "metadata": {
        "id": "-Q1jFmfqcTHr",
        "colab_type": "code",
        "colab": {}
      },
      "source": [
        "def avg_d_2016():\n",
        "    temp_i=0\n",
        "    average=[]\n",
        "    for rows in d16: #Chunk size gives how many data I want to take at once\n",
        "        add_var=0\n",
        "        avg=0.0\n",
        "        data=[]\n",
        "        df=pd.DataFrame(data=rows)\n",
        "        for index, row in df.iterrows():\n",
        "            data.append(row['PM2.5'])\n",
        "            \n",
        "        for i in data:\n",
        "            if type(i) is int or type(i) is float:\n",
        "                add_var=add_var+i\n",
        "                \n",
        "            elif type(i) is str:\n",
        "                if i!='NoData' and i!='PwrFail' and i!='InVld' and i!='---':\n",
        "                    temp=float(i)\n",
        "                    add_var=add_var+temp\n",
        "                    \n",
        "        avg=add_var/24\n",
        "        temp_i=temp_i+1\n",
        "        \n",
        "        average.append(avg)\n",
        "    return average\n",
        "                "
      ],
      "execution_count": 65,
      "outputs": []
    },
    {
      "cell_type": "code",
      "metadata": {
        "id": "S0Q8dV_YcTHx",
        "colab_type": "code",
        "colab": {}
      },
      "source": [
        "def avg_d_2017():\n",
        "    temp_i=0\n",
        "    average=[]\n",
        "    for rows in d17: #Chunk size gives how many data I want to take at once\n",
        "        add_var=0\n",
        "        avg=0.0\n",
        "        data=[]\n",
        "        df=pd.DataFrame(data=rows)\n",
        "        for index, row in df.iterrows():\n",
        "            data.append(row['PM2.5'])\n",
        "            \n",
        "        for i in data:\n",
        "            if type(i) is int or type(i) is float:\n",
        "                add_var=add_var+i\n",
        "                \n",
        "            elif type(i) is str:\n",
        "                if i!='NoData' and i!='PwrFail' and i!='InVld':\n",
        "                    temp=float(i)\n",
        "                    add_var=add_var+temp\n",
        "                    \n",
        "        avg=add_var/24\n",
        "        temp_i=temp_i+1\n",
        "        \n",
        "        average.append(avg)\n",
        "    return average\n",
        "                "
      ],
      "execution_count": 66,
      "outputs": []
    },
    {
      "cell_type": "code",
      "metadata": {
        "id": "KB5MXobgcTHz",
        "colab_type": "code",
        "colab": {}
      },
      "source": [
        "def avg_d_2018():\n",
        "    temp_i=0\n",
        "    average=[]\n",
        "    for rows in d18: #Chunk size gives how many data I want to take at once\n",
        "        add_var=0\n",
        "        avg=0.0\n",
        "        data=[]\n",
        "        df=pd.DataFrame(data=rows)\n",
        "        for index, row in df.iterrows():\n",
        "            data.append(row['PM2.5'])\n",
        "            \n",
        "        for i in data:\n",
        "            if type(i) is int or type(i) is float:\n",
        "                add_var=add_var+i\n",
        "                \n",
        "            elif type(i) is str:\n",
        "                if i!='NoData' and i!='PwrFail' and i!='InVld':\n",
        "                    temp=float(i)\n",
        "                    add_var=add_var+temp\n",
        "                    \n",
        "        avg=add_var/24\n",
        "        temp_i=temp_i+1\n",
        "        \n",
        "        average.append(avg)\n",
        "    return average\n",
        "                "
      ],
      "execution_count": 67,
      "outputs": []
    },
    {
      "cell_type": "code",
      "metadata": {
        "id": "H6CyQRHVfsWE",
        "colab_type": "code",
        "colab": {}
      },
      "source": [
        ""
      ],
      "execution_count": 67,
      "outputs": []
    },
    {
      "cell_type": "code",
      "metadata": {
        "id": "EnzfFs_ocTH0",
        "colab_type": "code",
        "colab": {
          "base_uri": "https://localhost:8080/",
          "height": 279
        },
        "outputId": "9b49b139-e645-4c00-9810-45c5da758359"
      },
      "source": [
        "if __name__==\"__main__\":\n",
        "    lst2013=avg_d_2013()\n",
        "    lst2014=avg_d_2014()\n",
        "    lst2015=avg_d_2015()\n",
        "    lst2016=avg_d_2016()\n",
        "    lst2017=avg_d_2017()\n",
        "    lst2018=avg_d_2018()\n",
        "    plt.plot(range(0,365),lst2013,label=\"2013 data\")\n",
        "    plt.plot(range(0,364),lst2014,label=\"2014 data\")\n",
        "    plt.plot(range(0,365),lst2015,label=\"2015 data\")\n",
        "    #plt.plot(range(0,121),lst2016,label=\"2016 data\")\n",
        "    plt.xlabel('Day')\n",
        "    plt.ylabel('PM 2.5')\n",
        "    plt.legend(loc='upper right')\n",
        "    plt.show()\n",
        "    "
      ],
      "execution_count": 68,
      "outputs": [
        {
          "output_type": "display_data",
          "data": {
            "image/png": "[encoded data removed]",
            "text/plain": [
              "<Figure size 432x288 with 1 Axes>"
            ]
          },
          "metadata": {
            "tags": [],
            "needs_background": "light"
          }
        }
      ]
    },
    {
      "cell_type": "code",
      "metadata": {
        "id": "vPB6X2j-gzlv",
        "colab_type": "code",
        "colab": {
          "base_uri": "https://localhost:8080/",
          "height": 1000
        },
        "outputId": "5aa2a857-ebce-4f82-a4ea-bbe19df881d9"
      },
      "source": [
        "lst2013"
      ],
      "execution_count": 69,
      "outputs": [
        {
          "output_type": "execute_result",
          "data": {
            "text/plain": [
              "[284.79583333333335,\n",
              " 219.72083333333333,\n",
              " 182.1875,\n",
              " 115.28749999999998,\n",
              " 0.0,\n",
              " 12.379166666666668,\n",
              " 154.03750000000002,\n",
              " 223.20833333333334,\n",
              " 200.64583333333337,\n",
              " 154.875,\n",
              " 129.38749999999996,\n",
              " 224.2458333333333,\n",
              " 285.22499999999997,\n",
              " 236.82499999999996,\n",
              " 276.90833333333336,\n",
              " 245.65,\n",
              " 218.67083333333326,\n",
              " 47.82500000000001,\n",
              " 108.0,\n",
              " 107.625,\n",
              " 125.89166666666667,\n",
              " 179.3083333333333,\n",
              " 239.85,\n",
              " 220.1916666666667,\n",
              " 181.01250000000005,\n",
              " 152.55416666666667,\n",
              " 152.32083333333335,\n",
              " 171.42916666666665,\n",
              " 251.375,\n",
              " 251.82916666666668,\n",
              " 319.7375,\n",
              " 332.7083333333333,\n",
              " 279.59999999999997,\n",
              " 179.11666666666667,\n",
              " 166.29999999999998,\n",
              " 78.25416666666666,\n",
              " 54.958333333333336,\n",
              " 54.791666666666664,\n",
              " 93.375,\n",
              " 103.0,\n",
              " 211.125,\n",
              " 192.29166666666666,\n",
              " 152.0,\n",
              " 132.20833333333334,\n",
              " 127.70833333333333,\n",
              " 109.33333333333333,\n",
              " 0.0,\n",
              " 0.0,\n",
              " 0.0,\n",
              " 56.458333333333336,\n",
              " 135.83333333333334,\n",
              " 122.5,\n",
              " 119.33333333333333,\n",
              " 67.125,\n",
              " 46.708333333333336,\n",
              " 69.66666666666667,\n",
              " 79.83333333333333,\n",
              " 62.708333333333336,\n",
              " 81.04166666666667,\n",
              " 21.208333333333332,\n",
              " 1.9166666666666667,\n",
              " 1.8333333333333333,\n",
              " 1.7916666666666667,\n",
              " 31.625,\n",
              " 112.08333333333333,\n",
              " 105.83333333333333,\n",
              " 117.58333333333333,\n",
              " 122.70833333333333,\n",
              " 76.54166666666667,\n",
              " 159.08333333333334,\n",
              " 147.95833333333334,\n",
              " 111.95833333333333,\n",
              " 59.208333333333336,\n",
              " 77.20833333333333,\n",
              " 87.83333333333333,\n",
              " 90.04166666666667,\n",
              " 63.916666666666664,\n",
              " 98.70833333333333,\n",
              " 123.70833333333333,\n",
              " 64.79166666666667,\n",
              " 62.875,\n",
              " 88.375,\n",
              " 77.66666666666667,\n",
              " 52.333333333333336,\n",
              " 52.041666666666664,\n",
              " 128.33333333333334,\n",
              " 87.58333333333333,\n",
              " 2.9166666666666665,\n",
              " 0.0,\n",
              " 0.0,\n",
              " 23.208333333333332,\n",
              " 15.166666666666666,\n",
              " 21.25,\n",
              " 25.75,\n",
              " 52.416666666666664,\n",
              " 89.0,\n",
              " 81.83333333333333,\n",
              " 105.33333333333333,\n",
              " 117.75,\n",
              " 20.791666666666668,\n",
              " 64.79166666666667,\n",
              " 87.375,\n",
              " 84.5,\n",
              " 46.916666666666664,\n",
              " 104.625,\n",
              " 109.625,\n",
              " 63.458333333333336,\n",
              " 77.04166666666667,\n",
              " 110.875,\n",
              " 42.958333333333336,\n",
              " 0.0,\n",
              " 30.875,\n",
              " 75.58333333333333,\n",
              " 106.95833333333333,\n",
              " 120.875,\n",
              " 79.91666666666667,\n",
              " 0.0,\n",
              " 0.0,\n",
              " 0.0,\n",
              " 38.5,\n",
              " 94.75,\n",
              " 142.5,\n",
              " 133.375,\n",
              " 102.41666666666667,\n",
              " 101.75,\n",
              " 117.95833333333333,\n",
              " 147.83333333333334,\n",
              " 158.29166666666666,\n",
              " 149.58333333333334,\n",
              " 107.29166666666667,\n",
              " 96.25,\n",
              " 76.25,\n",
              " 101.5,\n",
              " 106.5,\n",
              " 128.125,\n",
              " 108.0,\n",
              " 125.625,\n",
              " 137.16666666666666,\n",
              " 101.95833333333333,\n",
              " 98.41666666666667,\n",
              " 94.375,\n",
              " 118.5,\n",
              " 89.54166666666667,\n",
              " 87.25,\n",
              " 107.625,\n",
              " 110.41666666666667,\n",
              " 95.83333333333333,\n",
              " 93.5,\n",
              " 97.625,\n",
              " 76.95833333333333,\n",
              " 72.25,\n",
              " 38.666666666666664,\n",
              " 45.375,\n",
              " 65.16666666666667,\n",
              " 67.08333333333333,\n",
              " 80.04166666666667,\n",
              " 74.16666666666667,\n",
              " 66.08333333333333,\n",
              " 77.66666666666667,\n",
              " 70.25,\n",
              " 75.125,\n",
              " 37.166666666666664,\n",
              " 57.375,\n",
              " 56.291666666666664,\n",
              " 77.0,\n",
              " 32.958333333333336,\n",
              " 40.833333333333336,\n",
              " 42.541666666666664,\n",
              " 93.08333333333333,\n",
              " 80.625,\n",
              " 90.70833333333333,\n",
              " 97.29166666666667,\n",
              " 79.83333333333333,\n",
              " 87.75,\n",
              " 63.5,\n",
              " 50.708333333333336,\n",
              " 40.375,\n",
              " 49.416666666666664,\n",
              " 43.666666666666664,\n",
              " 52.166666666666664,\n",
              " 49.583333333333336,\n",
              " 61.875,\n",
              " 0.0,\n",
              " 29.666666666666668,\n",
              " 47.75,\n",
              " 37.708333333333336,\n",
              " 33.083333333333336,\n",
              " 49.125,\n",
              " 43.666666666666664,\n",
              " 29.833333333333332,\n",
              " 29.666666666666668,\n",
              " 56.708333333333336,\n",
              " 39.25,\n",
              " 35.208333333333336,\n",
              " 37.625,\n",
              " 41.458333333333336,\n",
              " 53.125,\n",
              " 54.875,\n",
              " 65.75,\n",
              " 38.583333333333336,\n",
              " 36.0,\n",
              " 70.58333333333333,\n",
              " 52.458333333333336,\n",
              " 36.583333333333336,\n",
              " 45.583333333333336,\n",
              " 33.166666666666664,\n",
              " 38.25,\n",
              " 26.583333333333332,\n",
              " 57.583333333333336,\n",
              " 30.708333333333332,\n",
              " 35.375,\n",
              " 15.416666666666666,\n",
              " 41.375,\n",
              " 25.541666666666668,\n",
              " 28.375,\n",
              " 40.333333333333336,\n",
              " 39.333333333333336,\n",
              " 41.833333333333336,\n",
              " 50.333333333333336,\n",
              " 35.375,\n",
              " 31.916666666666668,\n",
              " 36.791666666666664,\n",
              " 33.291666666666664,\n",
              " 35.5,\n",
              " 35.291666666666664,\n",
              " 26.833333333333332,\n",
              " 21.125,\n",
              " 18.0,\n",
              " 28.041666666666668,\n",
              " 34.875,\n",
              " 35.708333333333336,\n",
              " 43.583333333333336,\n",
              " 46.041666666666664,\n",
              " 28.75,\n",
              " 70.54166666666667,\n",
              " 58.541666666666664,\n",
              " 82.875,\n",
              " 64.91666666666667,\n",
              " 30.666666666666668,\n",
              " 31.75,\n",
              " 41.041666666666664,\n",
              " 45.25,\n",
              " 34.416666666666664,\n",
              " 33.166666666666664,\n",
              " 30.625,\n",
              " 30.333333333333332,\n",
              " 31.75,\n",
              " 34.208333333333336,\n",
              " 11.625,\n",
              " 0.0,\n",
              " 0.0,\n",
              " 0.0,\n",
              " 0.0,\n",
              " 0.0,\n",
              " 26.166666666666668,\n",
              " 76.875,\n",
              " 83.45833333333333,\n",
              " 71.66666666666667,\n",
              " 65.625,\n",
              " 53.375,\n",
              " 56.083333333333336,\n",
              " 69.70833333333333,\n",
              " 62.375,\n",
              " 24.875,\n",
              " 37.333333333333336,\n",
              " 50.125,\n",
              " 46.541666666666664,\n",
              " 43.958333333333336,\n",
              " 41.5,\n",
              " 38.791666666666664,\n",
              " 48.916666666666664,\n",
              " 76.91666666666667,\n",
              " 34.458333333333336,\n",
              " 30.333333333333332,\n",
              " 26.666666666666668,\n",
              " 29.0,\n",
              " 34.25,\n",
              " 62.708333333333336,\n",
              " 65.08333333333333,\n",
              " 61.708333333333336,\n",
              " 60.541666666666664,\n",
              " 41.583333333333336,\n",
              " 50.916666666666664,\n",
              " 40.958333333333336,\n",
              " 60.666666666666664,\n",
              " 80.04166666666667,\n",
              " 82.83333333333333,\n",
              " 95.25,\n",
              " 115.83333333333333,\n",
              " 149.66666666666666,\n",
              " 145.58333333333334,\n",
              " 126.16666666666667,\n",
              " 136.70833333333334,\n",
              " 160.66666666666666,\n",
              " 173.58333333333334,\n",
              " 168.625,\n",
              " 174.66666666666666,\n",
              " 245.66666666666666,\n",
              " 261.6666666666667,\n",
              " 272.4166666666667,\n",
              " 226.29166666666666,\n",
              " 291.7083333333333,\n",
              " 207.33333333333334,\n",
              " 149.625,\n",
              " 99.70833333333333,\n",
              " 217.375,\n",
              " 309.375,\n",
              " 166.91666666666666,\n",
              " 429.1666666666667,\n",
              " 332.4583333333333,\n",
              " 321.5416666666667,\n",
              " 278.0,\n",
              " 192.33333333333334,\n",
              " 235.33333333333334,\n",
              " 153.29166666666666,\n",
              " 171.54166666666666,\n",
              " 224.16666666666666,\n",
              " 196.75,\n",
              " 221.54166666666666,\n",
              " 210.54166666666666,\n",
              " 251.20833333333334,\n",
              " 172.83333333333334,\n",
              " 166.70833333333334,\n",
              " 130.70833333333334,\n",
              " 194.70833333333334,\n",
              " 250.875,\n",
              " 274.875,\n",
              " 207.91666666666666,\n",
              " 134.45833333333334,\n",
              " 110.0,\n",
              " 160.0,\n",
              " 217.91666666666666,\n",
              " 184.20833333333334,\n",
              " 130.91666666666666,\n",
              " 118.91666666666667,\n",
              " 176.375,\n",
              " 185.95833333333334,\n",
              " 195.375,\n",
              " 151.04166666666666,\n",
              " 170.875,\n",
              " 239.125,\n",
              " 365.2916666666667,\n",
              " 312.2083333333333,\n",
              " 237.625,\n",
              " 179.33333333333334,\n",
              " 122.54166666666667,\n",
              " 121.33333333333333,\n",
              " 202.875,\n",
              " 260.1666666666667,\n",
              " 403.9583333333333,\n",
              " 455.5833333333333,\n",
              " 382.7083333333333,\n",
              " 277.7083333333333,\n",
              " 284.1666666666667,\n",
              " 288.4166666666667,\n",
              " 256.8333333333333,\n",
              " 175.75,\n",
              " 180.79166666666666,\n",
              " 166.91666666666666,\n",
              " 169.0,\n",
              " 186.04166666666666,\n",
              " 185.58333333333334,\n",
              " 114.08333333333333,\n",
              " 140.45833333333334,\n",
              " 108.08333333333333]"
            ]
          },
          "metadata": {
            "tags": []
          },
          "execution_count": 69
        }
      ]
    },
    {
      "cell_type": "code",
      "metadata": {
        "id": "YWWxWv1zcTH2",
        "colab_type": "code",
        "colab": {}
      },
      "source": [
        ""
      ],
      "execution_count": null,
      "outputs": []
    }
  ]
}